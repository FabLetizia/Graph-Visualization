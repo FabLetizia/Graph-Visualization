{
 "cells": [
  {
   "cell_type": "code",
   "execution_count": 3,
   "metadata": {},
   "outputs": [],
   "source": [
    "import json"
   ]
  },
  {
   "cell_type": "code",
   "execution_count": 4,
   "metadata": {},
   "outputs": [
    {
     "name": "stdout",
     "output_type": "stream",
     "text": [
      "Conversion completed. Data saved in graph.json.\n"
     ]
    }
   ],
   "source": [
    "''' STEP 1: Reading the input file (graph) and creating a progressive ID for the nodes. \n",
    "            Storing the nodes mapping with the new ID. \n",
    "    STEP 2: Storing of nodes, edges and communities in a json file (for GoJS visualization)'''\n",
    "\n",
    "original_to_new_id = {}\n",
    "new_id_counter = 1\n",
    "\n",
    "# for storing in the json file\n",
    "nodes = []\n",
    "edges = []\n",
    "communities = set()\n",
    "\n",
    "# Read the file\n",
    "with open('../input/graph.txt', 'r') as file:\n",
    "    lines = file.readlines()\n",
    "\n",
    "for line in lines:\n",
    "    node1, node2, community = line.split(\"\\t\")\n",
    "    node1, node2, community = int(node1), int(node2), int(community)\n",
    "    communities.add(community)\n",
    "\n",
    "    # Storing the nodes mapping in 'original_to_new_id' dict\n",
    "    if node1 not in original_to_new_id:\n",
    "        original_to_new_id[node1] = new_id_counter\n",
    "        nodes.append({\"key\": new_id_counter, \"text\": f\"Node {new_id_counter}\"})\n",
    "        new_id_counter += 1\n",
    "    if node2 not in original_to_new_id:\n",
    "        original_to_new_id[node2] = new_id_counter\n",
    "        nodes.append({\"key\": new_id_counter, \"text\": f\"Node {new_id_counter}\"})\n",
    "        new_id_counter += 1\n",
    "\n",
    "    # Storing of the edges\n",
    "    edges.append({\"from\": original_to_new_id[node1], \"to\": original_to_new_id[node2], \"community\": community})\n",
    "\n",
    "# Create the final dict to store in the json file\n",
    "graph_data = {\n",
    "    \"nodeDataArray\": nodes,\n",
    "    \"linkDataArray\": edges,\n",
    "    \"numCommunities\": len(communities)  # Communities number\n",
    "}\n",
    "\n",
    "# Storing data in JSON format\n",
    "with open('graph.json', 'w') as json_file:\n",
    "    json.dump(graph_data, json_file, indent=4)\n",
    "\n",
    "print(\"Conversion completed. Data saved in graph.json.\")"
   ]
  },
  {
   "cell_type": "code",
   "execution_count": 5,
   "metadata": {},
   "outputs": [
    {
     "name": "stdout",
     "output_type": "stream",
     "text": [
      "21\n",
      "{1647: 1, 45695: 2, 45694: 3, 45693: 4, 45692: 5, 45691: 6, 45690: 7, 45689: 8, 45688: 9, 45687: 10, 1844: 11, 8701: 12, 7231: 13, 7192: 14, 4306: 15, 3903: 16, 3902: 17, 1892: 18, 28597: 19, 28596: 20, 28595: 21}\n"
     ]
    }
   ],
   "source": [
    "print(len(original_to_new_id))\n",
    "print(original_to_new_id)"
   ]
  }
 ],
 "metadata": {
  "kernelspec": {
   "display_name": "Python 3",
   "language": "python",
   "name": "python3"
  },
  "language_info": {
   "codemirror_mode": {
    "name": "ipython",
    "version": 3
   },
   "file_extension": ".py",
   "mimetype": "text/x-python",
   "name": "python",
   "nbconvert_exporter": "python",
   "pygments_lexer": "ipython3",
   "version": "3.11.7"
  }
 },
 "nbformat": 4,
 "nbformat_minor": 2
}
